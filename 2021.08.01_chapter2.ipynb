{
 "cells": [
  {
   "cell_type": "markdown",
   "metadata": {},
   "source": [
    "<h3>chapter2.&nbsp; 퍼셉트론</h3>"
   ]
  },
  {
   "cell_type": "markdown",
   "metadata": {},
   "source": [
    "<p>우리는 여러가지 게이트를 통하여 주어진 값으로 우리가 원하는 신호를 보낼 수 있다<br>\n",
    "    가장 기초적인 게이트로는 and 게이트, or 게이트, nand 게이트가 있다.<br>\n",
    "    "
   ]
  },
  {
   "cell_type": "code",
   "execution_count": null,
   "metadata": {},
   "outputs": [],
   "source": [
    "#and 게이트\n",
    "\n",
    "def AND(x1,x2):\n",
    "    w1,w2,theta=0.5,0.5,0.7\n",
    "    tmp=x1*w1+x2*w2\n",
    "    \n",
    "    if tmp <=theta:\n",
    "        return 0\n",
    "    elif tmp> theta:\n",
    "        return 1"
   ]
  },
  {
   "cell_type": "code",
   "execution_count": 7,
   "metadata": {},
   "outputs": [
    {
     "data": {
      "text/plain": [
       "1"
      ]
     },
     "execution_count": 7,
     "metadata": {},
     "output_type": "execute_result"
    }
   ],
   "source": [
    "#and 게이트 결과값 살펴보기\n",
    "\n",
    "#AND(0,0)\n",
    "#AND(1,0)\n",
    "#AND(0,1)\n",
    "AND(1,1)"
   ]
  },
  {
   "cell_type": "code",
   "execution_count": 9,
   "metadata": {},
   "outputs": [],
   "source": [
    "#필요한 라이브러리 import\n",
    "import numpy as np"
   ]
  },
  {
   "cell_type": "code",
   "execution_count": 10,
   "metadata": {},
   "outputs": [
    {
     "data": {
      "text/plain": [
       "array([0. , 0.5])"
      ]
     },
     "execution_count": 10,
     "metadata": {},
     "output_type": "execute_result"
    }
   ],
   "source": [
    "#and 게이트를 numpy의 array기능을 통하여 구하기\n",
    "#행렬이니깐 나중에 편한점이 있겠자...? 지금은 잘 모르겠음\n",
    "\n",
    "x=np.array([0,1])\n",
    "w=np.array([0.5,0.5])\n",
    "b=-0.7\n",
    "w*x"
   ]
  },
  {
   "cell_type": "code",
   "execution_count": 11,
   "metadata": {},
   "outputs": [
    {
     "data": {
      "text/plain": [
       "0.5"
      ]
     },
     "execution_count": 11,
     "metadata": {},
     "output_type": "execute_result"
    }
   ],
   "source": [
    "np.sum(w*x)"
   ]
  },
  {
   "cell_type": "code",
   "execution_count": 12,
   "metadata": {},
   "outputs": [
    {
     "data": {
      "text/plain": [
       "-0.19999999999999996"
      ]
     },
     "execution_count": 12,
     "metadata": {},
     "output_type": "execute_result"
    }
   ],
   "source": [
    "np.sum(w*x)+b"
   ]
  },
  {
   "cell_type": "code",
   "execution_count": 15,
   "metadata": {},
   "outputs": [],
   "source": [
    "def AND1(x1,x2):\n",
    "    x=np.array([x1,x2])\n",
    "    w=np.array([0.5,0.5])\n",
    "    b=-0.7\n",
    "    tmp=np.sum(w*x)+b\n",
    "    \n",
    "    if tmp<=0:\n",
    "        return 0\n",
    "    else:\n",
    "        return 1"
   ]
  },
  {
   "cell_type": "code",
   "execution_count": 19,
   "metadata": {},
   "outputs": [
    {
     "data": {
      "text/plain": [
       "0"
      ]
     },
     "execution_count": 19,
     "metadata": {},
     "output_type": "execute_result"
    }
   ],
   "source": [
    "AND1(0,0)\n",
    "#AND1(0,1)\n",
    "#AND1(1,0)\n",
    "#AND1(1,1)"
   ]
  },
  {
   "cell_type": "code",
   "execution_count": 20,
   "metadata": {},
   "outputs": [],
   "source": [
    "#nand 게이트 구하기\n",
    "\n",
    "def nand(x1,x2):\n",
    "    x=np.array([x1,x2])\n",
    "    w=np.array([-0.5,-0.5])\n",
    "    b=0.7\n",
    "    tmp=np.sum(w*x)+b\n",
    "    \n",
    "    if tmp<=0:\n",
    "        return 0\n",
    "    else:\n",
    "        return 1"
   ]
  },
  {
   "cell_type": "code",
   "execution_count": 25,
   "metadata": {},
   "outputs": [
    {
     "data": {
      "text/plain": [
       "0"
      ]
     },
     "execution_count": 25,
     "metadata": {},
     "output_type": "execute_result"
    }
   ],
   "source": [
    "#nand(0,0)\n",
    "#nand(0,1)\n",
    "#nand(1,0)\n",
    "nand(1,1)"
   ]
  },
  {
   "cell_type": "code",
   "execution_count": 21,
   "metadata": {},
   "outputs": [],
   "source": [
    "#or 게이트 구하기\n",
    "\n",
    "def OR(x1,x2):\n",
    "    x=np.array([x1,x2])\n",
    "    w=np.array([0.5,0.5])\n",
    "    b=-0.2\n",
    "    tmp=np.sum(w*x)+b\n",
    "    \n",
    "    if tmp<=0:\n",
    "        return 0\n",
    "    else:\n",
    "        return 1"
   ]
  },
  {
   "cell_type": "code",
   "execution_count": 29,
   "metadata": {},
   "outputs": [
    {
     "data": {
      "text/plain": [
       "1"
      ]
     },
     "execution_count": 29,
     "metadata": {},
     "output_type": "execute_result"
    }
   ],
   "source": [
    "#OR(0,0)\n",
    "#OR(0,1)\n",
    "#OR(1,0)\n",
    "OR(1,1)"
   ]
  },
  {
   "cell_type": "markdown",
   "metadata": {},
   "source": [
    "<p>xor게이트는 저런 가중치와 세타를 통하여 한번에 구할수 없다<br>\n",
    "    따라서 우리가 위에서 구했던 and,or,nand 게이트를 한번 더 이용하여 구해야 한다.<br>\n",
    "    nand와 or를 and 게이트로 묶으면 xor의 결과값을 구할 수 있다.</p>"
   ]
  },
  {
   "cell_type": "code",
   "execution_count": 30,
   "metadata": {},
   "outputs": [],
   "source": [
    "#xor게이트 구하기\n",
    "\n",
    "def xor(x1,x2):\n",
    "    s1=nand(x1,x2)\n",
    "    s2=OR(x1,x2)\n",
    "    y=AND(s1,s2)\n",
    "    return y"
   ]
  },
  {
   "cell_type": "code",
   "execution_count": 35,
   "metadata": {},
   "outputs": [
    {
     "data": {
      "text/plain": [
       "0"
      ]
     },
     "execution_count": 35,
     "metadata": {},
     "output_type": "execute_result"
    }
   ],
   "source": [
    "#xor(0,0)\n",
    "#xor(0,1)\n",
    "#xor(1,0)\n",
    "xor(1,1)"
   ]
  },
  {
   "cell_type": "code",
   "execution_count": null,
   "metadata": {},
   "outputs": [],
   "source": []
  }
 ],
 "metadata": {
  "kernelspec": {
   "display_name": "Python 3",
   "language": "python",
   "name": "python3"
  },
  "language_info": {
   "codemirror_mode": {
    "name": "ipython",
    "version": 3
   },
   "file_extension": ".py",
   "mimetype": "text/x-python",
   "name": "python",
   "nbconvert_exporter": "python",
   "pygments_lexer": "ipython3",
   "version": "3.8.5"
  }
 },
 "nbformat": 4,
 "nbformat_minor": 4
}
